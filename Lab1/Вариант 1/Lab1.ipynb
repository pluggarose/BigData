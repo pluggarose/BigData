{
 "cells": [
  {
   "cell_type": "code",
   "execution_count": 18,
   "metadata": {},
   "outputs": [],
   "source": [
    "import pandas as pd\n",
    "import sqlite3\n",
    "import plotly\n",
    "import plotly.graph_objs as go\n",
    "import plotly.express as px\n",
    "from plotly.subplots import make_subplots"
   ]
  },
  {
   "cell_type": "markdown",
   "metadata": {},
   "source": [
    "**CSV**\n",
    "Подсчёт числа погибших в каждой стране за март."
   ]
  },
  {
   "cell_type": "code",
   "execution_count": 19,
   "metadata": {},
   "outputs": [
    {
     "name": "stderr",
     "output_type": "stream",
     "text": [
      "C:\\Users\\Валентин\\AppData\\Local\\Temp\\ipykernel_14304\\1043046626.py:3: FutureWarning:\n",
      "\n",
      "Dropping invalid columns in DataFrameGroupBy.max is deprecated. In a future version, a TypeError will be raised. Before calling .max, select only columns which should be valid for the function.\n",
      "\n"
     ]
    },
    {
     "data": {
      "text/html": [
       "<div>\n",
       "<style scoped>\n",
       "    .dataframe tbody tr th:only-of-type {\n",
       "        vertical-align: middle;\n",
       "    }\n",
       "\n",
       "    .dataframe tbody tr th {\n",
       "        vertical-align: top;\n",
       "    }\n",
       "\n",
       "    .dataframe thead th {\n",
       "        text-align: right;\n",
       "    }\n",
       "</style>\n",
       "<table border=\"1\" class=\"dataframe\">\n",
       "  <thead>\n",
       "    <tr style=\"text-align: right;\">\n",
       "      <th></th>\n",
       "      <th>SNo</th>\n",
       "      <th>ObservationDate</th>\n",
       "      <th>Last Update</th>\n",
       "      <th>Confirmed</th>\n",
       "      <th>Deaths</th>\n",
       "      <th>Recovered</th>\n",
       "    </tr>\n",
       "    <tr>\n",
       "      <th>Country/Region</th>\n",
       "      <th></th>\n",
       "      <th></th>\n",
       "      <th></th>\n",
       "      <th></th>\n",
       "      <th></th>\n",
       "      <th></th>\n",
       "    </tr>\n",
       "  </thead>\n",
       "  <tbody>\n",
       "    <tr>\n",
       "      <th>Afghanistan</th>\n",
       "      <td>10357</td>\n",
       "      <td>2020-03-31</td>\n",
       "      <td>3/8/20 5:31</td>\n",
       "      <td>174.0</td>\n",
       "      <td>4.0</td>\n",
       "      <td>5.0</td>\n",
       "    </tr>\n",
       "    <tr>\n",
       "      <th>Albania</th>\n",
       "      <td>10358</td>\n",
       "      <td>2020-03-31</td>\n",
       "      <td>3/8/20 5:31</td>\n",
       "      <td>243.0</td>\n",
       "      <td>15.0</td>\n",
       "      <td>52.0</td>\n",
       "    </tr>\n",
       "    <tr>\n",
       "      <th>Algeria</th>\n",
       "      <td>10359</td>\n",
       "      <td>2020-03-31</td>\n",
       "      <td>3/8/20 5:31</td>\n",
       "      <td>716.0</td>\n",
       "      <td>44.0</td>\n",
       "      <td>65.0</td>\n",
       "    </tr>\n",
       "    <tr>\n",
       "      <th>Andorra</th>\n",
       "      <td>10360</td>\n",
       "      <td>2020-03-31</td>\n",
       "      <td>3/8/20 5:31</td>\n",
       "      <td>376.0</td>\n",
       "      <td>12.0</td>\n",
       "      <td>10.0</td>\n",
       "    </tr>\n",
       "    <tr>\n",
       "      <th>Angola</th>\n",
       "      <td>10361</td>\n",
       "      <td>2020-03-31</td>\n",
       "      <td>3/8/20 5:31</td>\n",
       "      <td>7.0</td>\n",
       "      <td>2.0</td>\n",
       "      <td>1.0</td>\n",
       "    </tr>\n",
       "    <tr>\n",
       "      <th>Argentina</th>\n",
       "      <td>10363</td>\n",
       "      <td>2020-03-31</td>\n",
       "      <td>3/8/20 5:31</td>\n",
       "      <td>1054.0</td>\n",
       "      <td>27.0</td>\n",
       "      <td>240.0</td>\n",
       "    </tr>\n",
       "    <tr>\n",
       "      <th>Armenia</th>\n",
       "      <td>10364</td>\n",
       "      <td>2020-03-31</td>\n",
       "      <td>3/8/20 5:31</td>\n",
       "      <td>532.0</td>\n",
       "      <td>3.0</td>\n",
       "      <td>30.0</td>\n",
       "    </tr>\n",
       "    <tr>\n",
       "      <th>Australia</th>\n",
       "      <td>10663</td>\n",
       "      <td>2020-03-31</td>\n",
       "      <td>3/8/20 5:31</td>\n",
       "      <td>2032.0</td>\n",
       "      <td>8.0</td>\n",
       "      <td>291.0</td>\n",
       "    </tr>\n",
       "    <tr>\n",
       "      <th>Austria</th>\n",
       "      <td>10365</td>\n",
       "      <td>2020-03-31</td>\n",
       "      <td>3/8/20 5:31</td>\n",
       "      <td>10180.0</td>\n",
       "      <td>128.0</td>\n",
       "      <td>1095.0</td>\n",
       "    </tr>\n",
       "    <tr>\n",
       "      <th>Azerbaijan</th>\n",
       "      <td>10366</td>\n",
       "      <td>2020-03-31</td>\n",
       "      <td>3/8/20 5:31</td>\n",
       "      <td>298.0</td>\n",
       "      <td>5.0</td>\n",
       "      <td>26.0</td>\n",
       "    </tr>\n",
       "    <tr>\n",
       "      <th>Bahrain</th>\n",
       "      <td>10368</td>\n",
       "      <td>2020-03-31</td>\n",
       "      <td>3/8/20 5:31</td>\n",
       "      <td>567.0</td>\n",
       "      <td>4.0</td>\n",
       "      <td>295.0</td>\n",
       "    </tr>\n",
       "    <tr>\n",
       "      <th>Bangladesh</th>\n",
       "      <td>10369</td>\n",
       "      <td>2020-03-31</td>\n",
       "      <td>3/8/20 5:31</td>\n",
       "      <td>51.0</td>\n",
       "      <td>5.0</td>\n",
       "      <td>25.0</td>\n",
       "    </tr>\n",
       "    <tr>\n",
       "      <th>Belarus</th>\n",
       "      <td>10371</td>\n",
       "      <td>2020-03-31</td>\n",
       "      <td>3/8/20 5:31</td>\n",
       "      <td>152.0</td>\n",
       "      <td>1.0</td>\n",
       "      <td>47.0</td>\n",
       "    </tr>\n",
       "    <tr>\n",
       "      <th>Belgium</th>\n",
       "      <td>10372</td>\n",
       "      <td>2020-03-31</td>\n",
       "      <td>3/8/20 5:31</td>\n",
       "      <td>12775.0</td>\n",
       "      <td>705.0</td>\n",
       "      <td>1696.0</td>\n",
       "    </tr>\n",
       "    <tr>\n",
       "      <th>Bolivia</th>\n",
       "      <td>10376</td>\n",
       "      <td>2020-03-31</td>\n",
       "      <td>3/8/20 5:31</td>\n",
       "      <td>107.0</td>\n",
       "      <td>6.0</td>\n",
       "      <td>0.0</td>\n",
       "    </tr>\n",
       "    <tr>\n",
       "      <th>Bosnia and Herzegovina</th>\n",
       "      <td>10377</td>\n",
       "      <td>2020-03-31</td>\n",
       "      <td>3/8/20 5:31</td>\n",
       "      <td>420.0</td>\n",
       "      <td>13.0</td>\n",
       "      <td>17.0</td>\n",
       "    </tr>\n",
       "    <tr>\n",
       "      <th>Botswana</th>\n",
       "      <td>10378</td>\n",
       "      <td>2020-03-31</td>\n",
       "      <td>3/8/20 5:31</td>\n",
       "      <td>4.0</td>\n",
       "      <td>1.0</td>\n",
       "      <td>0.0</td>\n",
       "    </tr>\n",
       "    <tr>\n",
       "      <th>Brazil</th>\n",
       "      <td>10379</td>\n",
       "      <td>2020-03-31</td>\n",
       "      <td>3/8/20 5:31</td>\n",
       "      <td>5717.0</td>\n",
       "      <td>201.0</td>\n",
       "      <td>127.0</td>\n",
       "    </tr>\n",
       "    <tr>\n",
       "      <th>Brunei</th>\n",
       "      <td>10380</td>\n",
       "      <td>2020-03-31</td>\n",
       "      <td>3/8/20 5:31</td>\n",
       "      <td>129.0</td>\n",
       "      <td>1.0</td>\n",
       "      <td>45.0</td>\n",
       "    </tr>\n",
       "    <tr>\n",
       "      <th>Bulgaria</th>\n",
       "      <td>10381</td>\n",
       "      <td>2020-03-31</td>\n",
       "      <td>3/8/20 5:31</td>\n",
       "      <td>399.0</td>\n",
       "      <td>8.0</td>\n",
       "      <td>17.0</td>\n",
       "    </tr>\n",
       "    <tr>\n",
       "      <th>Burkina Faso</th>\n",
       "      <td>10382</td>\n",
       "      <td>2020-03-31</td>\n",
       "      <td>3/8/20 5:31</td>\n",
       "      <td>261.0</td>\n",
       "      <td>14.0</td>\n",
       "      <td>32.0</td>\n",
       "    </tr>\n",
       "    <tr>\n",
       "      <th>Burma</th>\n",
       "      <td>10383</td>\n",
       "      <td>2020-03-31</td>\n",
       "      <td>3/8/20 5:31</td>\n",
       "      <td>15.0</td>\n",
       "      <td>1.0</td>\n",
       "      <td>0.0</td>\n",
       "    </tr>\n",
       "    <tr>\n",
       "      <th>Cabo Verde</th>\n",
       "      <td>10385</td>\n",
       "      <td>2020-03-31</td>\n",
       "      <td>3/8/20 5:31</td>\n",
       "      <td>6.0</td>\n",
       "      <td>1.0</td>\n",
       "      <td>0.0</td>\n",
       "    </tr>\n",
       "    <tr>\n",
       "      <th>Cameroon</th>\n",
       "      <td>10387</td>\n",
       "      <td>2020-03-31</td>\n",
       "      <td>3/8/20 5:31</td>\n",
       "      <td>193.0</td>\n",
       "      <td>6.0</td>\n",
       "      <td>5.0</td>\n",
       "    </tr>\n",
       "    <tr>\n",
       "      <th>Canada</th>\n",
       "      <td>10667</td>\n",
       "      <td>2020-03-31</td>\n",
       "      <td>3/8/20 5:31</td>\n",
       "      <td>4162.0</td>\n",
       "      <td>33.0</td>\n",
       "      <td>1592.0</td>\n",
       "    </tr>\n",
       "    <tr>\n",
       "      <th>Chile</th>\n",
       "      <td>10390</td>\n",
       "      <td>2020-03-31</td>\n",
       "      <td>3/8/20 5:31</td>\n",
       "      <td>2738.0</td>\n",
       "      <td>12.0</td>\n",
       "      <td>156.0</td>\n",
       "    </tr>\n",
       "    <tr>\n",
       "      <th>Colombia</th>\n",
       "      <td>10391</td>\n",
       "      <td>2020-03-31</td>\n",
       "      <td>3/8/20 5:31</td>\n",
       "      <td>906.0</td>\n",
       "      <td>16.0</td>\n",
       "      <td>31.0</td>\n",
       "    </tr>\n",
       "    <tr>\n",
       "      <th>Congo (Kinshasa)</th>\n",
       "      <td>10393</td>\n",
       "      <td>2020-03-31</td>\n",
       "      <td>3/8/20 5:31</td>\n",
       "      <td>98.0</td>\n",
       "      <td>8.0</td>\n",
       "      <td>2.0</td>\n",
       "    </tr>\n",
       "    <tr>\n",
       "      <th>Costa Rica</th>\n",
       "      <td>10394</td>\n",
       "      <td>2020-03-31</td>\n",
       "      <td>3/8/20 5:31</td>\n",
       "      <td>347.0</td>\n",
       "      <td>2.0</td>\n",
       "      <td>4.0</td>\n",
       "    </tr>\n",
       "    <tr>\n",
       "      <th>Croatia</th>\n",
       "      <td>10395</td>\n",
       "      <td>2020-03-31</td>\n",
       "      <td>3/8/20 5:31</td>\n",
       "      <td>867.0</td>\n",
       "      <td>6.0</td>\n",
       "      <td>67.0</td>\n",
       "    </tr>\n",
       "    <tr>\n",
       "      <th>Cuba</th>\n",
       "      <td>10396</td>\n",
       "      <td>2020-03-31</td>\n",
       "      <td>3/8/20 5:31</td>\n",
       "      <td>186.0</td>\n",
       "      <td>6.0</td>\n",
       "      <td>8.0</td>\n",
       "    </tr>\n",
       "    <tr>\n",
       "      <th>Cyprus</th>\n",
       "      <td>10397</td>\n",
       "      <td>2020-03-31</td>\n",
       "      <td>3/8/20 5:31</td>\n",
       "      <td>262.0</td>\n",
       "      <td>8.0</td>\n",
       "      <td>23.0</td>\n",
       "    </tr>\n",
       "    <tr>\n",
       "      <th>Czech Republic</th>\n",
       "      <td>10398</td>\n",
       "      <td>2020-03-31</td>\n",
       "      <td>3/8/20 5:31</td>\n",
       "      <td>3308.0</td>\n",
       "      <td>31.0</td>\n",
       "      <td>45.0</td>\n",
       "    </tr>\n",
       "    <tr>\n",
       "      <th>Denmark</th>\n",
       "      <td>10567</td>\n",
       "      <td>2020-03-31</td>\n",
       "      <td>3/8/20 5:31</td>\n",
       "      <td>2860.0</td>\n",
       "      <td>90.0</td>\n",
       "      <td>74.0</td>\n",
       "    </tr>\n",
       "    <tr>\n",
       "      <th>Diamond Princess</th>\n",
       "      <td>10400</td>\n",
       "      <td>2020-03-31</td>\n",
       "      <td>3/8/20 5:31</td>\n",
       "      <td>712.0</td>\n",
       "      <td>10.0</td>\n",
       "      <td>603.0</td>\n",
       "    </tr>\n",
       "    <tr>\n",
       "      <th>Dominican Republic</th>\n",
       "      <td>10403</td>\n",
       "      <td>2020-03-31</td>\n",
       "      <td>3/8/20 5:31</td>\n",
       "      <td>1109.0</td>\n",
       "      <td>51.0</td>\n",
       "      <td>5.0</td>\n",
       "    </tr>\n",
       "    <tr>\n",
       "      <th>Ecuador</th>\n",
       "      <td>10404</td>\n",
       "      <td>2020-03-31</td>\n",
       "      <td>3/8/20 5:31</td>\n",
       "      <td>2240.0</td>\n",
       "      <td>75.0</td>\n",
       "      <td>54.0</td>\n",
       "    </tr>\n",
       "    <tr>\n",
       "      <th>Egypt</th>\n",
       "      <td>10405</td>\n",
       "      <td>2020-03-31</td>\n",
       "      <td>3/8/20 5:31</td>\n",
       "      <td>710.0</td>\n",
       "      <td>46.0</td>\n",
       "      <td>157.0</td>\n",
       "    </tr>\n",
       "    <tr>\n",
       "      <th>El Salvador</th>\n",
       "      <td>10406</td>\n",
       "      <td>2020-03-31</td>\n",
       "      <td>3/8/20 5:31</td>\n",
       "      <td>32.0</td>\n",
       "      <td>1.0</td>\n",
       "      <td>0.0</td>\n",
       "    </tr>\n",
       "    <tr>\n",
       "      <th>Estonia</th>\n",
       "      <td>10409</td>\n",
       "      <td>2020-03-31</td>\n",
       "      <td>3/8/20 5:31</td>\n",
       "      <td>745.0</td>\n",
       "      <td>4.0</td>\n",
       "      <td>26.0</td>\n",
       "    </tr>\n",
       "    <tr>\n",
       "      <th>Finland</th>\n",
       "      <td>10413</td>\n",
       "      <td>2020-03-31</td>\n",
       "      <td>3/8/20 5:31</td>\n",
       "      <td>1418.0</td>\n",
       "      <td>17.0</td>\n",
       "      <td>10.0</td>\n",
       "    </tr>\n",
       "    <tr>\n",
       "      <th>France</th>\n",
       "      <td>10649</td>\n",
       "      <td>2020-03-31</td>\n",
       "      <td>3/8/20 5:31</td>\n",
       "      <td>52128.0</td>\n",
       "      <td>3523.0</td>\n",
       "      <td>9444.0</td>\n",
       "    </tr>\n",
       "    <tr>\n",
       "      <th>Gabon</th>\n",
       "      <td>10415</td>\n",
       "      <td>2020-03-31</td>\n",
       "      <td>3/8/20 5:31</td>\n",
       "      <td>16.0</td>\n",
       "      <td>1.0</td>\n",
       "      <td>0.0</td>\n",
       "    </tr>\n",
       "    <tr>\n",
       "      <th>Gambia</th>\n",
       "      <td>10416</td>\n",
       "      <td>2020-03-31</td>\n",
       "      <td>3/8/20 5:31</td>\n",
       "      <td>4.0</td>\n",
       "      <td>1.0</td>\n",
       "      <td>0.0</td>\n",
       "    </tr>\n",
       "    <tr>\n",
       "      <th>Germany</th>\n",
       "      <td>10418</td>\n",
       "      <td>2020-03-31</td>\n",
       "      <td>3/8/20 5:31</td>\n",
       "      <td>71808.0</td>\n",
       "      <td>775.0</td>\n",
       "      <td>16100.0</td>\n",
       "    </tr>\n",
       "    <tr>\n",
       "      <th>Ghana</th>\n",
       "      <td>10419</td>\n",
       "      <td>2020-03-31</td>\n",
       "      <td>3/8/20 5:31</td>\n",
       "      <td>161.0</td>\n",
       "      <td>5.0</td>\n",
       "      <td>31.0</td>\n",
       "    </tr>\n",
       "    <tr>\n",
       "      <th>Greece</th>\n",
       "      <td>10420</td>\n",
       "      <td>2020-03-31</td>\n",
       "      <td>3/8/20 5:31</td>\n",
       "      <td>1314.0</td>\n",
       "      <td>49.0</td>\n",
       "      <td>52.0</td>\n",
       "    </tr>\n",
       "    <tr>\n",
       "      <th>Guatemala</th>\n",
       "      <td>10422</td>\n",
       "      <td>2020-03-31</td>\n",
       "      <td>3/8/20 5:31</td>\n",
       "      <td>38.0</td>\n",
       "      <td>1.0</td>\n",
       "      <td>12.0</td>\n",
       "    </tr>\n",
       "    <tr>\n",
       "      <th>Guyana</th>\n",
       "      <td>10425</td>\n",
       "      <td>2020-03-31</td>\n",
       "      <td>3/8/20 5:31</td>\n",
       "      <td>20.0</td>\n",
       "      <td>2.0</td>\n",
       "      <td>0.0</td>\n",
       "    </tr>\n",
       "    <tr>\n",
       "      <th>Honduras</th>\n",
       "      <td>10428</td>\n",
       "      <td>2020-03-31</td>\n",
       "      <td>3/8/20 5:31</td>\n",
       "      <td>141.0</td>\n",
       "      <td>7.0</td>\n",
       "      <td>3.0</td>\n",
       "    </tr>\n",
       "    <tr>\n",
       "      <th>Hong Kong</th>\n",
       "      <td>10578</td>\n",
       "      <td>2020-03-31</td>\n",
       "      <td>3/8/20 5:31</td>\n",
       "      <td>714.0</td>\n",
       "      <td>4.0</td>\n",
       "      <td>128.0</td>\n",
       "    </tr>\n",
       "    <tr>\n",
       "      <th>Hungary</th>\n",
       "      <td>10429</td>\n",
       "      <td>2020-03-31</td>\n",
       "      <td>3/8/20 5:31</td>\n",
       "      <td>492.0</td>\n",
       "      <td>16.0</td>\n",
       "      <td>37.0</td>\n",
       "    </tr>\n",
       "    <tr>\n",
       "      <th>Iceland</th>\n",
       "      <td>10430</td>\n",
       "      <td>2020-03-31</td>\n",
       "      <td>3/8/20 5:31</td>\n",
       "      <td>1135.0</td>\n",
       "      <td>5.0</td>\n",
       "      <td>198.0</td>\n",
       "    </tr>\n",
       "    <tr>\n",
       "      <th>India</th>\n",
       "      <td>10431</td>\n",
       "      <td>2020-03-31</td>\n",
       "      <td>3/8/20 5:31</td>\n",
       "      <td>1397.0</td>\n",
       "      <td>35.0</td>\n",
       "      <td>123.0</td>\n",
       "    </tr>\n",
       "    <tr>\n",
       "      <th>Indonesia</th>\n",
       "      <td>10432</td>\n",
       "      <td>2020-03-31</td>\n",
       "      <td>3/8/20 5:31</td>\n",
       "      <td>1528.0</td>\n",
       "      <td>136.0</td>\n",
       "      <td>81.0</td>\n",
       "    </tr>\n",
       "    <tr>\n",
       "      <th>Iran</th>\n",
       "      <td>10433</td>\n",
       "      <td>2020-03-31</td>\n",
       "      <td>3/8/20 5:31</td>\n",
       "      <td>44605.0</td>\n",
       "      <td>2898.0</td>\n",
       "      <td>14656.0</td>\n",
       "    </tr>\n",
       "    <tr>\n",
       "      <th>Iraq</th>\n",
       "      <td>10434</td>\n",
       "      <td>2020-03-31</td>\n",
       "      <td>3/8/20 5:31</td>\n",
       "      <td>694.0</td>\n",
       "      <td>50.0</td>\n",
       "      <td>170.0</td>\n",
       "    </tr>\n",
       "    <tr>\n",
       "      <th>Ireland</th>\n",
       "      <td>10435</td>\n",
       "      <td>2020-03-31</td>\n",
       "      <td>3/8/20 5:31</td>\n",
       "      <td>3235.0</td>\n",
       "      <td>71.0</td>\n",
       "      <td>5.0</td>\n",
       "    </tr>\n",
       "    <tr>\n",
       "      <th>Israel</th>\n",
       "      <td>10436</td>\n",
       "      <td>2020-03-31</td>\n",
       "      <td>3/8/20 5:31</td>\n",
       "      <td>5358.0</td>\n",
       "      <td>20.0</td>\n",
       "      <td>224.0</td>\n",
       "    </tr>\n",
       "    <tr>\n",
       "      <th>Italy</th>\n",
       "      <td>10437</td>\n",
       "      <td>2020-03-31</td>\n",
       "      <td>3/8/20 5:31</td>\n",
       "      <td>105792.0</td>\n",
       "      <td>12428.0</td>\n",
       "      <td>15729.0</td>\n",
       "    </tr>\n",
       "    <tr>\n",
       "      <th>Ivory Coast</th>\n",
       "      <td>10438</td>\n",
       "      <td>2020-03-31</td>\n",
       "      <td>3/8/20 5:31</td>\n",
       "      <td>179.0</td>\n",
       "      <td>1.0</td>\n",
       "      <td>7.0</td>\n",
       "    </tr>\n",
       "    <tr>\n",
       "      <th>Jamaica</th>\n",
       "      <td>10439</td>\n",
       "      <td>2020-03-31</td>\n",
       "      <td>3/8/20 5:31</td>\n",
       "      <td>36.0</td>\n",
       "      <td>1.0</td>\n",
       "      <td>2.0</td>\n",
       "    </tr>\n",
       "    <tr>\n",
       "      <th>Japan</th>\n",
       "      <td>10440</td>\n",
       "      <td>2020-03-31</td>\n",
       "      <td>3/8/20 5:31</td>\n",
       "      <td>1953.0</td>\n",
       "      <td>56.0</td>\n",
       "      <td>424.0</td>\n",
       "    </tr>\n",
       "    <tr>\n",
       "      <th>Jordan</th>\n",
       "      <td>10441</td>\n",
       "      <td>2020-03-31</td>\n",
       "      <td>3/8/20 5:31</td>\n",
       "      <td>274.0</td>\n",
       "      <td>5.0</td>\n",
       "      <td>30.0</td>\n",
       "    </tr>\n",
       "    <tr>\n",
       "      <th>Kazakhstan</th>\n",
       "      <td>10442</td>\n",
       "      <td>2020-03-31</td>\n",
       "      <td>3/8/20 5:31</td>\n",
       "      <td>343.0</td>\n",
       "      <td>3.0</td>\n",
       "      <td>24.0</td>\n",
       "    </tr>\n",
       "    <tr>\n",
       "      <th>Kenya</th>\n",
       "      <td>10443</td>\n",
       "      <td>2020-03-31</td>\n",
       "      <td>3/8/20 5:31</td>\n",
       "      <td>59.0</td>\n",
       "      <td>1.0</td>\n",
       "      <td>1.0</td>\n",
       "    </tr>\n",
       "    <tr>\n",
       "      <th>Kosovo</th>\n",
       "      <td>10444</td>\n",
       "      <td>2020-03-31</td>\n",
       "      <td>3/8/20 5:31</td>\n",
       "      <td>112.0</td>\n",
       "      <td>1.0</td>\n",
       "      <td>6.0</td>\n",
       "    </tr>\n",
       "    <tr>\n",
       "      <th>Lebanon</th>\n",
       "      <td>10449</td>\n",
       "      <td>2020-03-31</td>\n",
       "      <td>3/8/20 5:31</td>\n",
       "      <td>470.0</td>\n",
       "      <td>12.0</td>\n",
       "      <td>37.0</td>\n",
       "    </tr>\n",
       "    <tr>\n",
       "      <th>Lithuania</th>\n",
       "      <td>10453</td>\n",
       "      <td>2020-03-31</td>\n",
       "      <td>3/8/20 5:31</td>\n",
       "      <td>537.0</td>\n",
       "      <td>8.0</td>\n",
       "      <td>7.0</td>\n",
       "    </tr>\n",
       "    <tr>\n",
       "      <th>Luxembourg</th>\n",
       "      <td>10454</td>\n",
       "      <td>2020-03-31</td>\n",
       "      <td>3/8/20 5:31</td>\n",
       "      <td>2178.0</td>\n",
       "      <td>23.0</td>\n",
       "      <td>80.0</td>\n",
       "    </tr>\n",
       "    <tr>\n",
       "      <th>Mainland China</th>\n",
       "      <td>10669</td>\n",
       "      <td>2020-03-31</td>\n",
       "      <td>3/8/20 5:31</td>\n",
       "      <td>67801.0</td>\n",
       "      <td>3187.0</td>\n",
       "      <td>63153.0</td>\n",
       "    </tr>\n",
       "    <tr>\n",
       "      <th>Malaysia</th>\n",
       "      <td>10457</td>\n",
       "      <td>2020-03-31</td>\n",
       "      <td>3/8/20 5:31</td>\n",
       "      <td>2766.0</td>\n",
       "      <td>43.0</td>\n",
       "      <td>537.0</td>\n",
       "    </tr>\n",
       "    <tr>\n",
       "      <th>Mali</th>\n",
       "      <td>10459</td>\n",
       "      <td>2020-03-31</td>\n",
       "      <td>3/8/20 5:31</td>\n",
       "      <td>28.0</td>\n",
       "      <td>2.0</td>\n",
       "      <td>0.0</td>\n",
       "    </tr>\n",
       "    <tr>\n",
       "      <th>Martinique</th>\n",
       "      <td>7496</td>\n",
       "      <td>2020-03-21</td>\n",
       "      <td>2020-03-20T10:13:37</td>\n",
       "      <td>32.0</td>\n",
       "      <td>1.0</td>\n",
       "      <td>0.0</td>\n",
       "    </tr>\n",
       "    <tr>\n",
       "      <th>Mauritania</th>\n",
       "      <td>10461</td>\n",
       "      <td>2020-03-31</td>\n",
       "      <td>3/8/20 5:31</td>\n",
       "      <td>6.0</td>\n",
       "      <td>1.0</td>\n",
       "      <td>2.0</td>\n",
       "    </tr>\n",
       "    <tr>\n",
       "      <th>Mauritius</th>\n",
       "      <td>10462</td>\n",
       "      <td>2020-03-31</td>\n",
       "      <td>3/8/20 5:31</td>\n",
       "      <td>143.0</td>\n",
       "      <td>5.0</td>\n",
       "      <td>0.0</td>\n",
       "    </tr>\n",
       "    <tr>\n",
       "      <th>Mexico</th>\n",
       "      <td>10463</td>\n",
       "      <td>2020-03-31</td>\n",
       "      <td>3/8/20 5:31</td>\n",
       "      <td>1094.0</td>\n",
       "      <td>28.0</td>\n",
       "      <td>35.0</td>\n",
       "    </tr>\n",
       "    <tr>\n",
       "      <th>Moldova</th>\n",
       "      <td>10464</td>\n",
       "      <td>2020-03-31</td>\n",
       "      <td>3/8/20 5:31</td>\n",
       "      <td>353.0</td>\n",
       "      <td>4.0</td>\n",
       "      <td>18.0</td>\n",
       "    </tr>\n",
       "    <tr>\n",
       "      <th>Monaco</th>\n",
       "      <td>10465</td>\n",
       "      <td>2020-03-31</td>\n",
       "      <td>3/8/20 5:31</td>\n",
       "      <td>52.0</td>\n",
       "      <td>1.0</td>\n",
       "      <td>2.0</td>\n",
       "    </tr>\n",
       "    <tr>\n",
       "      <th>Montenegro</th>\n",
       "      <td>10467</td>\n",
       "      <td>2020-03-31</td>\n",
       "      <td>3/8/20 5:31</td>\n",
       "      <td>109.0</td>\n",
       "      <td>2.0</td>\n",
       "      <td>0.0</td>\n",
       "    </tr>\n",
       "    <tr>\n",
       "      <th>Morocco</th>\n",
       "      <td>10468</td>\n",
       "      <td>2020-03-31</td>\n",
       "      <td>3/8/20 5:31</td>\n",
       "      <td>617.0</td>\n",
       "      <td>36.0</td>\n",
       "      <td>24.0</td>\n",
       "    </tr>\n",
       "    <tr>\n",
       "      <th>Netherlands</th>\n",
       "      <td>10645</td>\n",
       "      <td>2020-03-31</td>\n",
       "      <td>3/8/20 5:31</td>\n",
       "      <td>12595.0</td>\n",
       "      <td>1039.0</td>\n",
       "      <td>250.0</td>\n",
       "    </tr>\n",
       "    <tr>\n",
       "      <th>New Zealand</th>\n",
       "      <td>10473</td>\n",
       "      <td>2020-03-31</td>\n",
       "      <td>3/8/20 5:31</td>\n",
       "      <td>647.0</td>\n",
       "      <td>1.0</td>\n",
       "      <td>74.0</td>\n",
       "    </tr>\n",
       "    <tr>\n",
       "      <th>Nicaragua</th>\n",
       "      <td>10474</td>\n",
       "      <td>2020-03-31</td>\n",
       "      <td>3/8/20 5:31</td>\n",
       "      <td>5.0</td>\n",
       "      <td>1.0</td>\n",
       "      <td>0.0</td>\n",
       "    </tr>\n",
       "    <tr>\n",
       "      <th>Niger</th>\n",
       "      <td>10475</td>\n",
       "      <td>2020-03-31</td>\n",
       "      <td>3/8/20 5:31</td>\n",
       "      <td>27.0</td>\n",
       "      <td>3.0</td>\n",
       "      <td>0.0</td>\n",
       "    </tr>\n",
       "    <tr>\n",
       "      <th>Nigeria</th>\n",
       "      <td>10476</td>\n",
       "      <td>2020-03-31</td>\n",
       "      <td>3/8/20 5:31</td>\n",
       "      <td>135.0</td>\n",
       "      <td>2.0</td>\n",
       "      <td>8.0</td>\n",
       "    </tr>\n",
       "    <tr>\n",
       "      <th>North Macedonia</th>\n",
       "      <td>10477</td>\n",
       "      <td>2020-03-31</td>\n",
       "      <td>3/8/20 5:31</td>\n",
       "      <td>329.0</td>\n",
       "      <td>9.0</td>\n",
       "      <td>12.0</td>\n",
       "    </tr>\n",
       "    <tr>\n",
       "      <th>Norway</th>\n",
       "      <td>10478</td>\n",
       "      <td>2020-03-31</td>\n",
       "      <td>3/8/20 5:31</td>\n",
       "      <td>4641.0</td>\n",
       "      <td>39.0</td>\n",
       "      <td>13.0</td>\n",
       "    </tr>\n",
       "    <tr>\n",
       "      <th>Oman</th>\n",
       "      <td>10479</td>\n",
       "      <td>2020-03-31</td>\n",
       "      <td>3/8/20 5:31</td>\n",
       "      <td>192.0</td>\n",
       "      <td>1.0</td>\n",
       "      <td>34.0</td>\n",
       "    </tr>\n",
       "    <tr>\n",
       "      <th>Others</th>\n",
       "      <td>8099</td>\n",
       "      <td>2020-03-23</td>\n",
       "      <td>3/8/20 5:31</td>\n",
       "      <td>712.0</td>\n",
       "      <td>8.0</td>\n",
       "      <td>567.0</td>\n",
       "    </tr>\n",
       "    <tr>\n",
       "      <th>Pakistan</th>\n",
       "      <td>10480</td>\n",
       "      <td>2020-03-31</td>\n",
       "      <td>3/8/20 5:31</td>\n",
       "      <td>1938.0</td>\n",
       "      <td>26.0</td>\n",
       "      <td>76.0</td>\n",
       "    </tr>\n",
       "    <tr>\n",
       "      <th>Panama</th>\n",
       "      <td>10481</td>\n",
       "      <td>2020-03-31</td>\n",
       "      <td>3/8/20 5:31</td>\n",
       "      <td>1181.0</td>\n",
       "      <td>30.0</td>\n",
       "      <td>9.0</td>\n",
       "    </tr>\n",
       "    <tr>\n",
       "      <th>Paraguay</th>\n",
       "      <td>10483</td>\n",
       "      <td>2020-03-31</td>\n",
       "      <td>3/8/20 5:31</td>\n",
       "      <td>65.0</td>\n",
       "      <td>3.0</td>\n",
       "      <td>1.0</td>\n",
       "    </tr>\n",
       "    <tr>\n",
       "      <th>Peru</th>\n",
       "      <td>10484</td>\n",
       "      <td>2020-03-31</td>\n",
       "      <td>3/8/20 5:31</td>\n",
       "      <td>1065.0</td>\n",
       "      <td>30.0</td>\n",
       "      <td>394.0</td>\n",
       "    </tr>\n",
       "    <tr>\n",
       "      <th>Philippines</th>\n",
       "      <td>10485</td>\n",
       "      <td>2020-03-31</td>\n",
       "      <td>3/8/20 5:31</td>\n",
       "      <td>2084.0</td>\n",
       "      <td>88.0</td>\n",
       "      <td>49.0</td>\n",
       "    </tr>\n",
       "    <tr>\n",
       "      <th>Poland</th>\n",
       "      <td>10486</td>\n",
       "      <td>2020-03-31</td>\n",
       "      <td>3/8/20 5:31</td>\n",
       "      <td>2311.0</td>\n",
       "      <td>33.0</td>\n",
       "      <td>13.0</td>\n",
       "    </tr>\n",
       "    <tr>\n",
       "      <th>Portugal</th>\n",
       "      <td>10487</td>\n",
       "      <td>2020-03-31</td>\n",
       "      <td>3/8/20 5:31</td>\n",
       "      <td>7443.0</td>\n",
       "      <td>160.0</td>\n",
       "      <td>43.0</td>\n",
       "    </tr>\n",
       "    <tr>\n",
       "      <th>Qatar</th>\n",
       "      <td>10488</td>\n",
       "      <td>2020-03-31</td>\n",
       "      <td>3/8/20 5:31</td>\n",
       "      <td>781.0</td>\n",
       "      <td>2.0</td>\n",
       "      <td>62.0</td>\n",
       "    </tr>\n",
       "    <tr>\n",
       "      <th>Romania</th>\n",
       "      <td>10489</td>\n",
       "      <td>2020-03-31</td>\n",
       "      <td>3/8/20 5:31</td>\n",
       "      <td>2245.0</td>\n",
       "      <td>82.0</td>\n",
       "      <td>220.0</td>\n",
       "    </tr>\n",
       "    <tr>\n",
       "      <th>Russia</th>\n",
       "      <td>10490</td>\n",
       "      <td>2020-03-31</td>\n",
       "      <td>3/8/20 5:31</td>\n",
       "      <td>2337.0</td>\n",
       "      <td>17.0</td>\n",
       "      <td>121.0</td>\n",
       "    </tr>\n",
       "    <tr>\n",
       "      <th>San Marino</th>\n",
       "      <td>10495</td>\n",
       "      <td>2020-03-31</td>\n",
       "      <td>3/8/20 5:31</td>\n",
       "      <td>236.0</td>\n",
       "      <td>26.0</td>\n",
       "      <td>13.0</td>\n",
       "    </tr>\n",
       "    <tr>\n",
       "      <th>Saudi Arabia</th>\n",
       "      <td>10496</td>\n",
       "      <td>2020-03-31</td>\n",
       "      <td>3/8/20 5:31</td>\n",
       "      <td>1563.0</td>\n",
       "      <td>10.0</td>\n",
       "      <td>165.0</td>\n",
       "    </tr>\n",
       "    <tr>\n",
       "      <th>Serbia</th>\n",
       "      <td>10498</td>\n",
       "      <td>2020-03-31</td>\n",
       "      <td>3/8/20 5:31</td>\n",
       "      <td>900.0</td>\n",
       "      <td>16.0</td>\n",
       "      <td>15.0</td>\n",
       "    </tr>\n",
       "    <tr>\n",
       "      <th>Singapore</th>\n",
       "      <td>10501</td>\n",
       "      <td>2020-03-31</td>\n",
       "      <td>3/8/20 5:31</td>\n",
       "      <td>926.0</td>\n",
       "      <td>3.0</td>\n",
       "      <td>240.0</td>\n",
       "    </tr>\n",
       "    <tr>\n",
       "      <th>Slovakia</th>\n",
       "      <td>10502</td>\n",
       "      <td>2020-03-31</td>\n",
       "      <td>3/8/20 5:31</td>\n",
       "      <td>363.0</td>\n",
       "      <td>1.0</td>\n",
       "      <td>7.0</td>\n",
       "    </tr>\n",
       "    <tr>\n",
       "      <th>Slovenia</th>\n",
       "      <td>10503</td>\n",
       "      <td>2020-03-31</td>\n",
       "      <td>3/8/20 5:31</td>\n",
       "      <td>802.0</td>\n",
       "      <td>15.0</td>\n",
       "      <td>10.0</td>\n",
       "    </tr>\n",
       "    <tr>\n",
       "      <th>South Africa</th>\n",
       "      <td>10505</td>\n",
       "      <td>2020-03-31</td>\n",
       "      <td>3/8/20 5:31</td>\n",
       "      <td>1353.0</td>\n",
       "      <td>5.0</td>\n",
       "      <td>31.0</td>\n",
       "    </tr>\n",
       "    <tr>\n",
       "      <th>South Korea</th>\n",
       "      <td>10506</td>\n",
       "      <td>2020-03-31</td>\n",
       "      <td>3/8/20 5:31</td>\n",
       "      <td>9786.0</td>\n",
       "      <td>162.0</td>\n",
       "      <td>5408.0</td>\n",
       "    </tr>\n",
       "    <tr>\n",
       "      <th>Spain</th>\n",
       "      <td>10507</td>\n",
       "      <td>2020-03-31</td>\n",
       "      <td>3/8/20 5:31</td>\n",
       "      <td>95923.0</td>\n",
       "      <td>8464.0</td>\n",
       "      <td>19259.0</td>\n",
       "    </tr>\n",
       "    <tr>\n",
       "      <th>Sri Lanka</th>\n",
       "      <td>10508</td>\n",
       "      <td>2020-03-31</td>\n",
       "      <td>3/8/20 5:31</td>\n",
       "      <td>143.0</td>\n",
       "      <td>2.0</td>\n",
       "      <td>17.0</td>\n",
       "    </tr>\n",
       "    <tr>\n",
       "      <th>Sudan</th>\n",
       "      <td>10509</td>\n",
       "      <td>2020-03-31</td>\n",
       "      <td>3/8/20 5:31</td>\n",
       "      <td>7.0</td>\n",
       "      <td>2.0</td>\n",
       "      <td>1.0</td>\n",
       "    </tr>\n",
       "    <tr>\n",
       "      <th>Sweden</th>\n",
       "      <td>10511</td>\n",
       "      <td>2020-03-31</td>\n",
       "      <td>3/8/20 5:31</td>\n",
       "      <td>4435.0</td>\n",
       "      <td>180.0</td>\n",
       "      <td>16.0</td>\n",
       "    </tr>\n",
       "    <tr>\n",
       "      <th>Switzerland</th>\n",
       "      <td>10512</td>\n",
       "      <td>2020-03-31</td>\n",
       "      <td>3/8/20 5:31</td>\n",
       "      <td>16605.0</td>\n",
       "      <td>433.0</td>\n",
       "      <td>1823.0</td>\n",
       "    </tr>\n",
       "    <tr>\n",
       "      <th>Syria</th>\n",
       "      <td>10513</td>\n",
       "      <td>2020-03-31</td>\n",
       "      <td>3/8/20 5:31</td>\n",
       "      <td>10.0</td>\n",
       "      <td>2.0</td>\n",
       "      <td>0.0</td>\n",
       "    </tr>\n",
       "    <tr>\n",
       "      <th>Taiwan</th>\n",
       "      <td>10514</td>\n",
       "      <td>2020-03-31</td>\n",
       "      <td>3/8/20 5:31</td>\n",
       "      <td>322.0</td>\n",
       "      <td>5.0</td>\n",
       "      <td>39.0</td>\n",
       "    </tr>\n",
       "    <tr>\n",
       "      <th>Tanzania</th>\n",
       "      <td>10515</td>\n",
       "      <td>2020-03-31</td>\n",
       "      <td>3/8/20 5:31</td>\n",
       "      <td>19.0</td>\n",
       "      <td>1.0</td>\n",
       "      <td>1.0</td>\n",
       "    </tr>\n",
       "    <tr>\n",
       "      <th>Thailand</th>\n",
       "      <td>10516</td>\n",
       "      <td>2020-03-31</td>\n",
       "      <td>3/8/20 5:31</td>\n",
       "      <td>1651.0</td>\n",
       "      <td>10.0</td>\n",
       "      <td>342.0</td>\n",
       "    </tr>\n",
       "    <tr>\n",
       "      <th>Togo</th>\n",
       "      <td>10518</td>\n",
       "      <td>2020-03-31</td>\n",
       "      <td>3/8/20 5:31</td>\n",
       "      <td>34.0</td>\n",
       "      <td>1.0</td>\n",
       "      <td>10.0</td>\n",
       "    </tr>\n",
       "    <tr>\n",
       "      <th>Trinidad and Tobago</th>\n",
       "      <td>10519</td>\n",
       "      <td>2020-03-31</td>\n",
       "      <td>3/8/20 5:31</td>\n",
       "      <td>87.0</td>\n",
       "      <td>3.0</td>\n",
       "      <td>1.0</td>\n",
       "    </tr>\n",
       "    <tr>\n",
       "      <th>Tunisia</th>\n",
       "      <td>10520</td>\n",
       "      <td>2020-03-31</td>\n",
       "      <td>3/8/20 5:31</td>\n",
       "      <td>394.0</td>\n",
       "      <td>10.0</td>\n",
       "      <td>3.0</td>\n",
       "    </tr>\n",
       "    <tr>\n",
       "      <th>Turkey</th>\n",
       "      <td>10521</td>\n",
       "      <td>2020-03-31</td>\n",
       "      <td>3/8/20 5:31</td>\n",
       "      <td>13531.0</td>\n",
       "      <td>214.0</td>\n",
       "      <td>243.0</td>\n",
       "    </tr>\n",
       "    <tr>\n",
       "      <th>UK</th>\n",
       "      <td>10655</td>\n",
       "      <td>2020-03-31</td>\n",
       "      <td>3/8/20 5:31</td>\n",
       "      <td>25150.0</td>\n",
       "      <td>1789.0</td>\n",
       "      <td>135.0</td>\n",
       "    </tr>\n",
       "    <tr>\n",
       "      <th>US</th>\n",
       "      <td>10665</td>\n",
       "      <td>2020-03-31</td>\n",
       "      <td>3/8/20 5:31</td>\n",
       "      <td>75833.0</td>\n",
       "      <td>1550.0</td>\n",
       "      <td>7024.0</td>\n",
       "    </tr>\n",
       "    <tr>\n",
       "      <th>Ukraine</th>\n",
       "      <td>10524</td>\n",
       "      <td>2020-03-31</td>\n",
       "      <td>3/8/20 5:31</td>\n",
       "      <td>645.0</td>\n",
       "      <td>17.0</td>\n",
       "      <td>10.0</td>\n",
       "    </tr>\n",
       "    <tr>\n",
       "      <th>United Arab Emirates</th>\n",
       "      <td>10525</td>\n",
       "      <td>2020-03-31</td>\n",
       "      <td>3/8/20 5:31</td>\n",
       "      <td>664.0</td>\n",
       "      <td>6.0</td>\n",
       "      <td>61.0</td>\n",
       "    </tr>\n",
       "    <tr>\n",
       "      <th>Uruguay</th>\n",
       "      <td>10526</td>\n",
       "      <td>2020-03-31</td>\n",
       "      <td>3/8/20 5:31</td>\n",
       "      <td>338.0</td>\n",
       "      <td>1.0</td>\n",
       "      <td>41.0</td>\n",
       "    </tr>\n",
       "    <tr>\n",
       "      <th>Uzbekistan</th>\n",
       "      <td>10527</td>\n",
       "      <td>2020-03-31</td>\n",
       "      <td>3/8/20 5:31</td>\n",
       "      <td>172.0</td>\n",
       "      <td>2.0</td>\n",
       "      <td>7.0</td>\n",
       "    </tr>\n",
       "    <tr>\n",
       "      <th>Venezuela</th>\n",
       "      <td>10528</td>\n",
       "      <td>2020-03-31</td>\n",
       "      <td>3/8/20 5:31</td>\n",
       "      <td>135.0</td>\n",
       "      <td>3.0</td>\n",
       "      <td>39.0</td>\n",
       "    </tr>\n",
       "    <tr>\n",
       "      <th>West Bank and Gaza</th>\n",
       "      <td>10530</td>\n",
       "      <td>2020-03-31</td>\n",
       "      <td>3/8/20 5:31</td>\n",
       "      <td>119.0</td>\n",
       "      <td>1.0</td>\n",
       "      <td>18.0</td>\n",
       "    </tr>\n",
       "    <tr>\n",
       "      <th>Zimbabwe</th>\n",
       "      <td>10532</td>\n",
       "      <td>2020-03-31</td>\n",
       "      <td>3/8/20 5:31</td>\n",
       "      <td>8.0</td>\n",
       "      <td>1.0</td>\n",
       "      <td>0.0</td>\n",
       "    </tr>\n",
       "  </tbody>\n",
       "</table>\n",
       "</div>"
      ],
      "text/plain": [
       "                          SNo ObservationDate          Last Update  Confirmed  \\\n",
       "Country/Region                                                                  \n",
       "Afghanistan             10357      2020-03-31          3/8/20 5:31      174.0   \n",
       "Albania                 10358      2020-03-31          3/8/20 5:31      243.0   \n",
       "Algeria                 10359      2020-03-31          3/8/20 5:31      716.0   \n",
       "Andorra                 10360      2020-03-31          3/8/20 5:31      376.0   \n",
       "Angola                  10361      2020-03-31          3/8/20 5:31        7.0   \n",
       "Argentina               10363      2020-03-31          3/8/20 5:31     1054.0   \n",
       "Armenia                 10364      2020-03-31          3/8/20 5:31      532.0   \n",
       "Australia               10663      2020-03-31          3/8/20 5:31     2032.0   \n",
       "Austria                 10365      2020-03-31          3/8/20 5:31    10180.0   \n",
       "Azerbaijan              10366      2020-03-31          3/8/20 5:31      298.0   \n",
       "Bahrain                 10368      2020-03-31          3/8/20 5:31      567.0   \n",
       "Bangladesh              10369      2020-03-31          3/8/20 5:31       51.0   \n",
       "Belarus                 10371      2020-03-31          3/8/20 5:31      152.0   \n",
       "Belgium                 10372      2020-03-31          3/8/20 5:31    12775.0   \n",
       "Bolivia                 10376      2020-03-31          3/8/20 5:31      107.0   \n",
       "Bosnia and Herzegovina  10377      2020-03-31          3/8/20 5:31      420.0   \n",
       "Botswana                10378      2020-03-31          3/8/20 5:31        4.0   \n",
       "Brazil                  10379      2020-03-31          3/8/20 5:31     5717.0   \n",
       "Brunei                  10380      2020-03-31          3/8/20 5:31      129.0   \n",
       "Bulgaria                10381      2020-03-31          3/8/20 5:31      399.0   \n",
       "Burkina Faso            10382      2020-03-31          3/8/20 5:31      261.0   \n",
       "Burma                   10383      2020-03-31          3/8/20 5:31       15.0   \n",
       "Cabo Verde              10385      2020-03-31          3/8/20 5:31        6.0   \n",
       "Cameroon                10387      2020-03-31          3/8/20 5:31      193.0   \n",
       "Canada                  10667      2020-03-31          3/8/20 5:31     4162.0   \n",
       "Chile                   10390      2020-03-31          3/8/20 5:31     2738.0   \n",
       "Colombia                10391      2020-03-31          3/8/20 5:31      906.0   \n",
       "Congo (Kinshasa)        10393      2020-03-31          3/8/20 5:31       98.0   \n",
       "Costa Rica              10394      2020-03-31          3/8/20 5:31      347.0   \n",
       "Croatia                 10395      2020-03-31          3/8/20 5:31      867.0   \n",
       "Cuba                    10396      2020-03-31          3/8/20 5:31      186.0   \n",
       "Cyprus                  10397      2020-03-31          3/8/20 5:31      262.0   \n",
       "Czech Republic          10398      2020-03-31          3/8/20 5:31     3308.0   \n",
       "Denmark                 10567      2020-03-31          3/8/20 5:31     2860.0   \n",
       "Diamond Princess        10400      2020-03-31          3/8/20 5:31      712.0   \n",
       "Dominican Republic      10403      2020-03-31          3/8/20 5:31     1109.0   \n",
       "Ecuador                 10404      2020-03-31          3/8/20 5:31     2240.0   \n",
       "Egypt                   10405      2020-03-31          3/8/20 5:31      710.0   \n",
       "El Salvador             10406      2020-03-31          3/8/20 5:31       32.0   \n",
       "Estonia                 10409      2020-03-31          3/8/20 5:31      745.0   \n",
       "Finland                 10413      2020-03-31          3/8/20 5:31     1418.0   \n",
       "France                  10649      2020-03-31          3/8/20 5:31    52128.0   \n",
       "Gabon                   10415      2020-03-31          3/8/20 5:31       16.0   \n",
       "Gambia                  10416      2020-03-31          3/8/20 5:31        4.0   \n",
       "Germany                 10418      2020-03-31          3/8/20 5:31    71808.0   \n",
       "Ghana                   10419      2020-03-31          3/8/20 5:31      161.0   \n",
       "Greece                  10420      2020-03-31          3/8/20 5:31     1314.0   \n",
       "Guatemala               10422      2020-03-31          3/8/20 5:31       38.0   \n",
       "Guyana                  10425      2020-03-31          3/8/20 5:31       20.0   \n",
       "Honduras                10428      2020-03-31          3/8/20 5:31      141.0   \n",
       "Hong Kong               10578      2020-03-31          3/8/20 5:31      714.0   \n",
       "Hungary                 10429      2020-03-31          3/8/20 5:31      492.0   \n",
       "Iceland                 10430      2020-03-31          3/8/20 5:31     1135.0   \n",
       "India                   10431      2020-03-31          3/8/20 5:31     1397.0   \n",
       "Indonesia               10432      2020-03-31          3/8/20 5:31     1528.0   \n",
       "Iran                    10433      2020-03-31          3/8/20 5:31    44605.0   \n",
       "Iraq                    10434      2020-03-31          3/8/20 5:31      694.0   \n",
       "Ireland                 10435      2020-03-31          3/8/20 5:31     3235.0   \n",
       "Israel                  10436      2020-03-31          3/8/20 5:31     5358.0   \n",
       "Italy                   10437      2020-03-31          3/8/20 5:31   105792.0   \n",
       "Ivory Coast             10438      2020-03-31          3/8/20 5:31      179.0   \n",
       "Jamaica                 10439      2020-03-31          3/8/20 5:31       36.0   \n",
       "Japan                   10440      2020-03-31          3/8/20 5:31     1953.0   \n",
       "Jordan                  10441      2020-03-31          3/8/20 5:31      274.0   \n",
       "Kazakhstan              10442      2020-03-31          3/8/20 5:31      343.0   \n",
       "Kenya                   10443      2020-03-31          3/8/20 5:31       59.0   \n",
       "Kosovo                  10444      2020-03-31          3/8/20 5:31      112.0   \n",
       "Lebanon                 10449      2020-03-31          3/8/20 5:31      470.0   \n",
       "Lithuania               10453      2020-03-31          3/8/20 5:31      537.0   \n",
       "Luxembourg              10454      2020-03-31          3/8/20 5:31     2178.0   \n",
       "Mainland China          10669      2020-03-31          3/8/20 5:31    67801.0   \n",
       "Malaysia                10457      2020-03-31          3/8/20 5:31     2766.0   \n",
       "Mali                    10459      2020-03-31          3/8/20 5:31       28.0   \n",
       "Martinique               7496      2020-03-21  2020-03-20T10:13:37       32.0   \n",
       "Mauritania              10461      2020-03-31          3/8/20 5:31        6.0   \n",
       "Mauritius               10462      2020-03-31          3/8/20 5:31      143.0   \n",
       "Mexico                  10463      2020-03-31          3/8/20 5:31     1094.0   \n",
       "Moldova                 10464      2020-03-31          3/8/20 5:31      353.0   \n",
       "Monaco                  10465      2020-03-31          3/8/20 5:31       52.0   \n",
       "Montenegro              10467      2020-03-31          3/8/20 5:31      109.0   \n",
       "Morocco                 10468      2020-03-31          3/8/20 5:31      617.0   \n",
       "Netherlands             10645      2020-03-31          3/8/20 5:31    12595.0   \n",
       "New Zealand             10473      2020-03-31          3/8/20 5:31      647.0   \n",
       "Nicaragua               10474      2020-03-31          3/8/20 5:31        5.0   \n",
       "Niger                   10475      2020-03-31          3/8/20 5:31       27.0   \n",
       "Nigeria                 10476      2020-03-31          3/8/20 5:31      135.0   \n",
       "North Macedonia         10477      2020-03-31          3/8/20 5:31      329.0   \n",
       "Norway                  10478      2020-03-31          3/8/20 5:31     4641.0   \n",
       "Oman                    10479      2020-03-31          3/8/20 5:31      192.0   \n",
       "Others                   8099      2020-03-23          3/8/20 5:31      712.0   \n",
       "Pakistan                10480      2020-03-31          3/8/20 5:31     1938.0   \n",
       "Panama                  10481      2020-03-31          3/8/20 5:31     1181.0   \n",
       "Paraguay                10483      2020-03-31          3/8/20 5:31       65.0   \n",
       "Peru                    10484      2020-03-31          3/8/20 5:31     1065.0   \n",
       "Philippines             10485      2020-03-31          3/8/20 5:31     2084.0   \n",
       "Poland                  10486      2020-03-31          3/8/20 5:31     2311.0   \n",
       "Portugal                10487      2020-03-31          3/8/20 5:31     7443.0   \n",
       "Qatar                   10488      2020-03-31          3/8/20 5:31      781.0   \n",
       "Romania                 10489      2020-03-31          3/8/20 5:31     2245.0   \n",
       "Russia                  10490      2020-03-31          3/8/20 5:31     2337.0   \n",
       "San Marino              10495      2020-03-31          3/8/20 5:31      236.0   \n",
       "Saudi Arabia            10496      2020-03-31          3/8/20 5:31     1563.0   \n",
       "Serbia                  10498      2020-03-31          3/8/20 5:31      900.0   \n",
       "Singapore               10501      2020-03-31          3/8/20 5:31      926.0   \n",
       "Slovakia                10502      2020-03-31          3/8/20 5:31      363.0   \n",
       "Slovenia                10503      2020-03-31          3/8/20 5:31      802.0   \n",
       "South Africa            10505      2020-03-31          3/8/20 5:31     1353.0   \n",
       "South Korea             10506      2020-03-31          3/8/20 5:31     9786.0   \n",
       "Spain                   10507      2020-03-31          3/8/20 5:31    95923.0   \n",
       "Sri Lanka               10508      2020-03-31          3/8/20 5:31      143.0   \n",
       "Sudan                   10509      2020-03-31          3/8/20 5:31        7.0   \n",
       "Sweden                  10511      2020-03-31          3/8/20 5:31     4435.0   \n",
       "Switzerland             10512      2020-03-31          3/8/20 5:31    16605.0   \n",
       "Syria                   10513      2020-03-31          3/8/20 5:31       10.0   \n",
       "Taiwan                  10514      2020-03-31          3/8/20 5:31      322.0   \n",
       "Tanzania                10515      2020-03-31          3/8/20 5:31       19.0   \n",
       "Thailand                10516      2020-03-31          3/8/20 5:31     1651.0   \n",
       "Togo                    10518      2020-03-31          3/8/20 5:31       34.0   \n",
       "Trinidad and Tobago     10519      2020-03-31          3/8/20 5:31       87.0   \n",
       "Tunisia                 10520      2020-03-31          3/8/20 5:31      394.0   \n",
       "Turkey                  10521      2020-03-31          3/8/20 5:31    13531.0   \n",
       "UK                      10655      2020-03-31          3/8/20 5:31    25150.0   \n",
       "US                      10665      2020-03-31          3/8/20 5:31    75833.0   \n",
       "Ukraine                 10524      2020-03-31          3/8/20 5:31      645.0   \n",
       "United Arab Emirates    10525      2020-03-31          3/8/20 5:31      664.0   \n",
       "Uruguay                 10526      2020-03-31          3/8/20 5:31      338.0   \n",
       "Uzbekistan              10527      2020-03-31          3/8/20 5:31      172.0   \n",
       "Venezuela               10528      2020-03-31          3/8/20 5:31      135.0   \n",
       "West Bank and Gaza      10530      2020-03-31          3/8/20 5:31      119.0   \n",
       "Zimbabwe                10532      2020-03-31          3/8/20 5:31        8.0   \n",
       "\n",
       "                         Deaths  Recovered  \n",
       "Country/Region                              \n",
       "Afghanistan                 4.0        5.0  \n",
       "Albania                    15.0       52.0  \n",
       "Algeria                    44.0       65.0  \n",
       "Andorra                    12.0       10.0  \n",
       "Angola                      2.0        1.0  \n",
       "Argentina                  27.0      240.0  \n",
       "Armenia                     3.0       30.0  \n",
       "Australia                   8.0      291.0  \n",
       "Austria                   128.0     1095.0  \n",
       "Azerbaijan                  5.0       26.0  \n",
       "Bahrain                     4.0      295.0  \n",
       "Bangladesh                  5.0       25.0  \n",
       "Belarus                     1.0       47.0  \n",
       "Belgium                   705.0     1696.0  \n",
       "Bolivia                     6.0        0.0  \n",
       "Bosnia and Herzegovina     13.0       17.0  \n",
       "Botswana                    1.0        0.0  \n",
       "Brazil                    201.0      127.0  \n",
       "Brunei                      1.0       45.0  \n",
       "Bulgaria                    8.0       17.0  \n",
       "Burkina Faso               14.0       32.0  \n",
       "Burma                       1.0        0.0  \n",
       "Cabo Verde                  1.0        0.0  \n",
       "Cameroon                    6.0        5.0  \n",
       "Canada                     33.0     1592.0  \n",
       "Chile                      12.0      156.0  \n",
       "Colombia                   16.0       31.0  \n",
       "Congo (Kinshasa)            8.0        2.0  \n",
       "Costa Rica                  2.0        4.0  \n",
       "Croatia                     6.0       67.0  \n",
       "Cuba                        6.0        8.0  \n",
       "Cyprus                      8.0       23.0  \n",
       "Czech Republic             31.0       45.0  \n",
       "Denmark                    90.0       74.0  \n",
       "Diamond Princess           10.0      603.0  \n",
       "Dominican Republic         51.0        5.0  \n",
       "Ecuador                    75.0       54.0  \n",
       "Egypt                      46.0      157.0  \n",
       "El Salvador                 1.0        0.0  \n",
       "Estonia                     4.0       26.0  \n",
       "Finland                    17.0       10.0  \n",
       "France                   3523.0     9444.0  \n",
       "Gabon                       1.0        0.0  \n",
       "Gambia                      1.0        0.0  \n",
       "Germany                   775.0    16100.0  \n",
       "Ghana                       5.0       31.0  \n",
       "Greece                     49.0       52.0  \n",
       "Guatemala                   1.0       12.0  \n",
       "Guyana                      2.0        0.0  \n",
       "Honduras                    7.0        3.0  \n",
       "Hong Kong                   4.0      128.0  \n",
       "Hungary                    16.0       37.0  \n",
       "Iceland                     5.0      198.0  \n",
       "India                      35.0      123.0  \n",
       "Indonesia                 136.0       81.0  \n",
       "Iran                     2898.0    14656.0  \n",
       "Iraq                       50.0      170.0  \n",
       "Ireland                    71.0        5.0  \n",
       "Israel                     20.0      224.0  \n",
       "Italy                   12428.0    15729.0  \n",
       "Ivory Coast                 1.0        7.0  \n",
       "Jamaica                     1.0        2.0  \n",
       "Japan                      56.0      424.0  \n",
       "Jordan                      5.0       30.0  \n",
       "Kazakhstan                  3.0       24.0  \n",
       "Kenya                       1.0        1.0  \n",
       "Kosovo                      1.0        6.0  \n",
       "Lebanon                    12.0       37.0  \n",
       "Lithuania                   8.0        7.0  \n",
       "Luxembourg                 23.0       80.0  \n",
       "Mainland China           3187.0    63153.0  \n",
       "Malaysia                   43.0      537.0  \n",
       "Mali                        2.0        0.0  \n",
       "Martinique                  1.0        0.0  \n",
       "Mauritania                  1.0        2.0  \n",
       "Mauritius                   5.0        0.0  \n",
       "Mexico                     28.0       35.0  \n",
       "Moldova                     4.0       18.0  \n",
       "Monaco                      1.0        2.0  \n",
       "Montenegro                  2.0        0.0  \n",
       "Morocco                    36.0       24.0  \n",
       "Netherlands              1039.0      250.0  \n",
       "New Zealand                 1.0       74.0  \n",
       "Nicaragua                   1.0        0.0  \n",
       "Niger                       3.0        0.0  \n",
       "Nigeria                     2.0        8.0  \n",
       "North Macedonia             9.0       12.0  \n",
       "Norway                     39.0       13.0  \n",
       "Oman                        1.0       34.0  \n",
       "Others                      8.0      567.0  \n",
       "Pakistan                   26.0       76.0  \n",
       "Panama                     30.0        9.0  \n",
       "Paraguay                    3.0        1.0  \n",
       "Peru                       30.0      394.0  \n",
       "Philippines                88.0       49.0  \n",
       "Poland                     33.0       13.0  \n",
       "Portugal                  160.0       43.0  \n",
       "Qatar                       2.0       62.0  \n",
       "Romania                    82.0      220.0  \n",
       "Russia                     17.0      121.0  \n",
       "San Marino                 26.0       13.0  \n",
       "Saudi Arabia               10.0      165.0  \n",
       "Serbia                     16.0       15.0  \n",
       "Singapore                   3.0      240.0  \n",
       "Slovakia                    1.0        7.0  \n",
       "Slovenia                   15.0       10.0  \n",
       "South Africa                5.0       31.0  \n",
       "South Korea               162.0     5408.0  \n",
       "Spain                    8464.0    19259.0  \n",
       "Sri Lanka                   2.0       17.0  \n",
       "Sudan                       2.0        1.0  \n",
       "Sweden                    180.0       16.0  \n",
       "Switzerland               433.0     1823.0  \n",
       "Syria                       2.0        0.0  \n",
       "Taiwan                      5.0       39.0  \n",
       "Tanzania                    1.0        1.0  \n",
       "Thailand                   10.0      342.0  \n",
       "Togo                        1.0       10.0  \n",
       "Trinidad and Tobago         3.0        1.0  \n",
       "Tunisia                    10.0        3.0  \n",
       "Turkey                    214.0      243.0  \n",
       "UK                       1789.0      135.0  \n",
       "US                       1550.0     7024.0  \n",
       "Ukraine                    17.0       10.0  \n",
       "United Arab Emirates        6.0       61.0  \n",
       "Uruguay                     1.0       41.0  \n",
       "Uzbekistan                  2.0        7.0  \n",
       "Venezuela                   3.0       39.0  \n",
       "West Bank and Gaza          1.0       18.0  \n",
       "Zimbabwe                    1.0        0.0  "
      ]
     },
     "execution_count": 19,
     "metadata": {},
     "output_type": "execute_result"
    }
   ],
   "source": [
    "data_csv = pd.read_csv('covid_19_data.csv')\n",
    "data_csv['ObservationDate'] = pd.to_datetime(data_csv['ObservationDate'])\n",
    "filtered_data = data_csv[data_csv['ObservationDate'].dt.month == 3]\n",
    "total_deaths = filtered_data.groupby('Country/Region').max()\n",
    "#pd.set_option('display.max_rows', None)\n",
    "total_deaths = total_deaths[total_deaths['Deaths'] != 0]\n",
    "total_deaths"
   ]
  },
  {
   "cell_type": "markdown",
   "metadata": {},
   "source": [
    "**SQL**\n",
    "\n",
    "Подсчитать  общее  число  отзывов,  выяснить, какого типа отзывов больше: положительных, негативных или нейтральных."
   ]
  },
  {
   "cell_type": "code",
   "execution_count": 22,
   "metadata": {},
   "outputs": [
    {
     "data": {
      "text/plain": [
       "airline_sentiment\n",
       "Total                14485\n",
       "negative              9082\n",
       "dtype: int64"
      ]
     },
     "execution_count": 22,
     "metadata": {},
     "output_type": "execute_result"
    }
   ],
   "source": [
    "con = sqlite3.connect(\"database.sqlite\")\n",
    "df = pd.read_sql_query(\"SELECT * FROM Tweets\", con)\n",
    "con.close()\n",
    "select_a = df[['airline_sentiment']]\n",
    "select_b = select_a.value_counts()\n",
    "select_b['Total'] = select_b.sum()\n",
    "select_b = select_b.sort_values(ascending=False)\n",
    "select_b = select_b.head(2)\n",
    "select_b"
   ]
  },
  {
   "cell_type": "markdown",
   "metadata": {},
   "source": [
    "**JSON**\n",
    "\n",
    "Показать тенденцию изменения полового состава населения Албании."
   ]
  },
  {
   "cell_type": "code",
   "execution_count": 21,
   "metadata": {},
   "outputs": [
    {
     "data": {
      "application/vnd.plotly.v1+json": {
       "config": {
        "plotlyServerURL": "https://plot.ly"
       },
       "data": [
        {
         "name": "Мужское население",
         "type": "scatter",
         "x": [
          2000,
          2001,
          2002,
          2003,
          2004,
          2005,
          2006,
          2007,
          2008,
          2009,
          2010,
          2011,
          2012,
          2013,
          2014,
          2015
         ],
         "y": [
          1676885,
          1532598,
          1542213,
          1550728,
          1558377,
          1565316,
          1575878,
          1587496,
          1595526,
          1599047,
          1430368,
          1417405,
          1404176,
          1458268,
          1460473,
          1461407
         ]
        },
        {
         "name": "Женское население",
         "type": "scatter",
         "x": [
          2000,
          2001,
          2002,
          2003,
          2004,
          2005,
          2006,
          2007,
          2008,
          2009,
          2010,
          2011,
          2012,
          2013,
          2014,
          2015
         ],
         "y": [
          1724313,
          1541136,
          1551252,
          1560434,
          1568887,
          1576749,
          1570935,
          1573841,
          1586424,
          1595370,
          1426305,
          1411932,
          1397505,
          1438384,
          1433181,
          1427760
         ]
        }
       ],
       "layout": {
        "template": {
         "data": {
          "bar": [
           {
            "error_x": {
             "color": "#2a3f5f"
            },
            "error_y": {
             "color": "#2a3f5f"
            },
            "marker": {
             "line": {
              "color": "#E5ECF6",
              "width": 0.5
             },
             "pattern": {
              "fillmode": "overlay",
              "size": 10,
              "solidity": 0.2
             }
            },
            "type": "bar"
           }
          ],
          "barpolar": [
           {
            "marker": {
             "line": {
              "color": "#E5ECF6",
              "width": 0.5
             },
             "pattern": {
              "fillmode": "overlay",
              "size": 10,
              "solidity": 0.2
             }
            },
            "type": "barpolar"
           }
          ],
          "carpet": [
           {
            "aaxis": {
             "endlinecolor": "#2a3f5f",
             "gridcolor": "white",
             "linecolor": "white",
             "minorgridcolor": "white",
             "startlinecolor": "#2a3f5f"
            },
            "baxis": {
             "endlinecolor": "#2a3f5f",
             "gridcolor": "white",
             "linecolor": "white",
             "minorgridcolor": "white",
             "startlinecolor": "#2a3f5f"
            },
            "type": "carpet"
           }
          ],
          "choropleth": [
           {
            "colorbar": {
             "outlinewidth": 0,
             "ticks": ""
            },
            "type": "choropleth"
           }
          ],
          "contour": [
           {
            "colorbar": {
             "outlinewidth": 0,
             "ticks": ""
            },
            "colorscale": [
             [
              0,
              "#0d0887"
             ],
             [
              0.1111111111111111,
              "#46039f"
             ],
             [
              0.2222222222222222,
              "#7201a8"
             ],
             [
              0.3333333333333333,
              "#9c179e"
             ],
             [
              0.4444444444444444,
              "#bd3786"
             ],
             [
              0.5555555555555556,
              "#d8576b"
             ],
             [
              0.6666666666666666,
              "#ed7953"
             ],
             [
              0.7777777777777778,
              "#fb9f3a"
             ],
             [
              0.8888888888888888,
              "#fdca26"
             ],
             [
              1,
              "#f0f921"
             ]
            ],
            "type": "contour"
           }
          ],
          "contourcarpet": [
           {
            "colorbar": {
             "outlinewidth": 0,
             "ticks": ""
            },
            "type": "contourcarpet"
           }
          ],
          "heatmap": [
           {
            "colorbar": {
             "outlinewidth": 0,
             "ticks": ""
            },
            "colorscale": [
             [
              0,
              "#0d0887"
             ],
             [
              0.1111111111111111,
              "#46039f"
             ],
             [
              0.2222222222222222,
              "#7201a8"
             ],
             [
              0.3333333333333333,
              "#9c179e"
             ],
             [
              0.4444444444444444,
              "#bd3786"
             ],
             [
              0.5555555555555556,
              "#d8576b"
             ],
             [
              0.6666666666666666,
              "#ed7953"
             ],
             [
              0.7777777777777778,
              "#fb9f3a"
             ],
             [
              0.8888888888888888,
              "#fdca26"
             ],
             [
              1,
              "#f0f921"
             ]
            ],
            "type": "heatmap"
           }
          ],
          "heatmapgl": [
           {
            "colorbar": {
             "outlinewidth": 0,
             "ticks": ""
            },
            "colorscale": [
             [
              0,
              "#0d0887"
             ],
             [
              0.1111111111111111,
              "#46039f"
             ],
             [
              0.2222222222222222,
              "#7201a8"
             ],
             [
              0.3333333333333333,
              "#9c179e"
             ],
             [
              0.4444444444444444,
              "#bd3786"
             ],
             [
              0.5555555555555556,
              "#d8576b"
             ],
             [
              0.6666666666666666,
              "#ed7953"
             ],
             [
              0.7777777777777778,
              "#fb9f3a"
             ],
             [
              0.8888888888888888,
              "#fdca26"
             ],
             [
              1,
              "#f0f921"
             ]
            ],
            "type": "heatmapgl"
           }
          ],
          "histogram": [
           {
            "marker": {
             "pattern": {
              "fillmode": "overlay",
              "size": 10,
              "solidity": 0.2
             }
            },
            "type": "histogram"
           }
          ],
          "histogram2d": [
           {
            "colorbar": {
             "outlinewidth": 0,
             "ticks": ""
            },
            "colorscale": [
             [
              0,
              "#0d0887"
             ],
             [
              0.1111111111111111,
              "#46039f"
             ],
             [
              0.2222222222222222,
              "#7201a8"
             ],
             [
              0.3333333333333333,
              "#9c179e"
             ],
             [
              0.4444444444444444,
              "#bd3786"
             ],
             [
              0.5555555555555556,
              "#d8576b"
             ],
             [
              0.6666666666666666,
              "#ed7953"
             ],
             [
              0.7777777777777778,
              "#fb9f3a"
             ],
             [
              0.8888888888888888,
              "#fdca26"
             ],
             [
              1,
              "#f0f921"
             ]
            ],
            "type": "histogram2d"
           }
          ],
          "histogram2dcontour": [
           {
            "colorbar": {
             "outlinewidth": 0,
             "ticks": ""
            },
            "colorscale": [
             [
              0,
              "#0d0887"
             ],
             [
              0.1111111111111111,
              "#46039f"
             ],
             [
              0.2222222222222222,
              "#7201a8"
             ],
             [
              0.3333333333333333,
              "#9c179e"
             ],
             [
              0.4444444444444444,
              "#bd3786"
             ],
             [
              0.5555555555555556,
              "#d8576b"
             ],
             [
              0.6666666666666666,
              "#ed7953"
             ],
             [
              0.7777777777777778,
              "#fb9f3a"
             ],
             [
              0.8888888888888888,
              "#fdca26"
             ],
             [
              1,
              "#f0f921"
             ]
            ],
            "type": "histogram2dcontour"
           }
          ],
          "mesh3d": [
           {
            "colorbar": {
             "outlinewidth": 0,
             "ticks": ""
            },
            "type": "mesh3d"
           }
          ],
          "parcoords": [
           {
            "line": {
             "colorbar": {
              "outlinewidth": 0,
              "ticks": ""
             }
            },
            "type": "parcoords"
           }
          ],
          "pie": [
           {
            "automargin": true,
            "type": "pie"
           }
          ],
          "scatter": [
           {
            "fillpattern": {
             "fillmode": "overlay",
             "size": 10,
             "solidity": 0.2
            },
            "type": "scatter"
           }
          ],
          "scatter3d": [
           {
            "line": {
             "colorbar": {
              "outlinewidth": 0,
              "ticks": ""
             }
            },
            "marker": {
             "colorbar": {
              "outlinewidth": 0,
              "ticks": ""
             }
            },
            "type": "scatter3d"
           }
          ],
          "scattercarpet": [
           {
            "marker": {
             "colorbar": {
              "outlinewidth": 0,
              "ticks": ""
             }
            },
            "type": "scattercarpet"
           }
          ],
          "scattergeo": [
           {
            "marker": {
             "colorbar": {
              "outlinewidth": 0,
              "ticks": ""
             }
            },
            "type": "scattergeo"
           }
          ],
          "scattergl": [
           {
            "marker": {
             "colorbar": {
              "outlinewidth": 0,
              "ticks": ""
             }
            },
            "type": "scattergl"
           }
          ],
          "scattermapbox": [
           {
            "marker": {
             "colorbar": {
              "outlinewidth": 0,
              "ticks": ""
             }
            },
            "type": "scattermapbox"
           }
          ],
          "scatterpolar": [
           {
            "marker": {
             "colorbar": {
              "outlinewidth": 0,
              "ticks": ""
             }
            },
            "type": "scatterpolar"
           }
          ],
          "scatterpolargl": [
           {
            "marker": {
             "colorbar": {
              "outlinewidth": 0,
              "ticks": ""
             }
            },
            "type": "scatterpolargl"
           }
          ],
          "scatterternary": [
           {
            "marker": {
             "colorbar": {
              "outlinewidth": 0,
              "ticks": ""
             }
            },
            "type": "scatterternary"
           }
          ],
          "surface": [
           {
            "colorbar": {
             "outlinewidth": 0,
             "ticks": ""
            },
            "colorscale": [
             [
              0,
              "#0d0887"
             ],
             [
              0.1111111111111111,
              "#46039f"
             ],
             [
              0.2222222222222222,
              "#7201a8"
             ],
             [
              0.3333333333333333,
              "#9c179e"
             ],
             [
              0.4444444444444444,
              "#bd3786"
             ],
             [
              0.5555555555555556,
              "#d8576b"
             ],
             [
              0.6666666666666666,
              "#ed7953"
             ],
             [
              0.7777777777777778,
              "#fb9f3a"
             ],
             [
              0.8888888888888888,
              "#fdca26"
             ],
             [
              1,
              "#f0f921"
             ]
            ],
            "type": "surface"
           }
          ],
          "table": [
           {
            "cells": {
             "fill": {
              "color": "#EBF0F8"
             },
             "line": {
              "color": "white"
             }
            },
            "header": {
             "fill": {
              "color": "#C8D4E3"
             },
             "line": {
              "color": "white"
             }
            },
            "type": "table"
           }
          ]
         },
         "layout": {
          "annotationdefaults": {
           "arrowcolor": "#2a3f5f",
           "arrowhead": 0,
           "arrowwidth": 1
          },
          "autotypenumbers": "strict",
          "coloraxis": {
           "colorbar": {
            "outlinewidth": 0,
            "ticks": ""
           }
          },
          "colorscale": {
           "diverging": [
            [
             0,
             "#8e0152"
            ],
            [
             0.1,
             "#c51b7d"
            ],
            [
             0.2,
             "#de77ae"
            ],
            [
             0.3,
             "#f1b6da"
            ],
            [
             0.4,
             "#fde0ef"
            ],
            [
             0.5,
             "#f7f7f7"
            ],
            [
             0.6,
             "#e6f5d0"
            ],
            [
             0.7,
             "#b8e186"
            ],
            [
             0.8,
             "#7fbc41"
            ],
            [
             0.9,
             "#4d9221"
            ],
            [
             1,
             "#276419"
            ]
           ],
           "sequential": [
            [
             0,
             "#0d0887"
            ],
            [
             0.1111111111111111,
             "#46039f"
            ],
            [
             0.2222222222222222,
             "#7201a8"
            ],
            [
             0.3333333333333333,
             "#9c179e"
            ],
            [
             0.4444444444444444,
             "#bd3786"
            ],
            [
             0.5555555555555556,
             "#d8576b"
            ],
            [
             0.6666666666666666,
             "#ed7953"
            ],
            [
             0.7777777777777778,
             "#fb9f3a"
            ],
            [
             0.8888888888888888,
             "#fdca26"
            ],
            [
             1,
             "#f0f921"
            ]
           ],
           "sequentialminus": [
            [
             0,
             "#0d0887"
            ],
            [
             0.1111111111111111,
             "#46039f"
            ],
            [
             0.2222222222222222,
             "#7201a8"
            ],
            [
             0.3333333333333333,
             "#9c179e"
            ],
            [
             0.4444444444444444,
             "#bd3786"
            ],
            [
             0.5555555555555556,
             "#d8576b"
            ],
            [
             0.6666666666666666,
             "#ed7953"
            ],
            [
             0.7777777777777778,
             "#fb9f3a"
            ],
            [
             0.8888888888888888,
             "#fdca26"
            ],
            [
             1,
             "#f0f921"
            ]
           ]
          },
          "colorway": [
           "#636efa",
           "#EF553B",
           "#00cc96",
           "#ab63fa",
           "#FFA15A",
           "#19d3f3",
           "#FF6692",
           "#B6E880",
           "#FF97FF",
           "#FECB52"
          ],
          "font": {
           "color": "#2a3f5f"
          },
          "geo": {
           "bgcolor": "white",
           "lakecolor": "white",
           "landcolor": "#E5ECF6",
           "showlakes": true,
           "showland": true,
           "subunitcolor": "white"
          },
          "hoverlabel": {
           "align": "left"
          },
          "hovermode": "closest",
          "mapbox": {
           "style": "light"
          },
          "paper_bgcolor": "white",
          "plot_bgcolor": "#E5ECF6",
          "polar": {
           "angularaxis": {
            "gridcolor": "white",
            "linecolor": "white",
            "ticks": ""
           },
           "bgcolor": "#E5ECF6",
           "radialaxis": {
            "gridcolor": "white",
            "linecolor": "white",
            "ticks": ""
           }
          },
          "scene": {
           "xaxis": {
            "backgroundcolor": "#E5ECF6",
            "gridcolor": "white",
            "gridwidth": 2,
            "linecolor": "white",
            "showbackground": true,
            "ticks": "",
            "zerolinecolor": "white"
           },
           "yaxis": {
            "backgroundcolor": "#E5ECF6",
            "gridcolor": "white",
            "gridwidth": 2,
            "linecolor": "white",
            "showbackground": true,
            "ticks": "",
            "zerolinecolor": "white"
           },
           "zaxis": {
            "backgroundcolor": "#E5ECF6",
            "gridcolor": "white",
            "gridwidth": 2,
            "linecolor": "white",
            "showbackground": true,
            "ticks": "",
            "zerolinecolor": "white"
           }
          },
          "shapedefaults": {
           "line": {
            "color": "#2a3f5f"
           }
          },
          "ternary": {
           "aaxis": {
            "gridcolor": "white",
            "linecolor": "white",
            "ticks": ""
           },
           "baxis": {
            "gridcolor": "white",
            "linecolor": "white",
            "ticks": ""
           },
           "bgcolor": "#E5ECF6",
           "caxis": {
            "gridcolor": "white",
            "linecolor": "white",
            "ticks": ""
           }
          },
          "title": {
           "x": 0.05
          },
          "xaxis": {
           "automargin": true,
           "gridcolor": "white",
           "linecolor": "white",
           "ticks": "",
           "title": {
            "standoff": 15
           },
           "zerolinecolor": "white",
           "zerolinewidth": 2
          },
          "yaxis": {
           "automargin": true,
           "gridcolor": "white",
           "linecolor": "white",
           "ticks": "",
           "title": {
            "standoff": 15
           },
           "zerolinecolor": "white",
           "zerolinewidth": 2
          }
         }
        }
       }
      }
     },
     "metadata": {},
     "output_type": "display_data"
    }
   ],
   "source": [
    "data_json = pd.read_json('unece.json')\n",
    "select_alb = data_json [data_json['Country'] == 'Albania']\n",
    "select_alb = select_alb[['Year','Population aged 0-14, male','Population aged 15-64, male','Population aged 64+, male','Population aged 0-14, female','Population aged 15-64, female','Population aged 64+, female']]\n",
    "select_alb['sum_male'] = select_alb[['Population aged 0-14, male','Population aged 15-64, male','Population aged 64+, male']].sum(axis=1)\n",
    "select_alb['sum_female'] = select_alb[['Population aged 0-14, female','Population aged 15-64, female','Population aged 64+, female']].sum(axis=1)\n",
    "select_alb = select_alb.dropna()\n",
    "x = select_alb['Year']\n",
    "y_1 = select_alb['sum_male']\n",
    "y_2 = select_alb['sum_female']\n",
    "fig = go.Figure()\n",
    "fig.add_trace(go.Scatter(x=x,y=y_1, name='Мужское население'))\n",
    "fig.add_trace(go.Scatter(x=x,y=y_2, name='Женское население'))\n",
    "fig.show()\n"
   ]
  }
 ],
 "metadata": {
  "kernelspec": {
   "display_name": "base",
   "language": "python",
   "name": "python3"
  },
  "language_info": {
   "codemirror_mode": {
    "name": "ipython",
    "version": 3
   },
   "file_extension": ".py",
   "mimetype": "text/x-python",
   "name": "python",
   "nbconvert_exporter": "python",
   "pygments_lexer": "ipython3",
   "version": "3.11.4"
  }
 },
 "nbformat": 4,
 "nbformat_minor": 2
}
